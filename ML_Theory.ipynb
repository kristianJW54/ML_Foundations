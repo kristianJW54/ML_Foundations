{
  "nbformat": 4,
  "nbformat_minor": 0,
  "metadata": {
    "colab": {
      "provenance": [],
      "mount_file_id": "1GxwPhjDHiaTt1pSERroLrwMGfZWPQPAy",
      "authorship_tag": "ABX9TyNQrxyN3XmmyIKKi1ePwDAZ",
      "include_colab_link": true
    },
    "kernelspec": {
      "name": "python3",
      "display_name": "Python 3"
    },
    "language_info": {
      "name": "python"
    }
  },
  "cells": [
    {
      "cell_type": "markdown",
      "metadata": {
        "id": "view-in-github",
        "colab_type": "text"
      },
      "source": [
        "<a href=\"https://colab.research.google.com/github/kristianJW54/ML_Foundations/blob/main/ML_Theory.ipynb\" target=\"_parent\"><img src=\"https://colab.research.google.com/assets/colab-badge.svg\" alt=\"Open In Colab\"/></a>"
      ]
    },
    {
      "cell_type": "markdown",
      "source": [
        "# Machine Learning Theory\n",
        "**Using Linear Regression to cover the foundations**\n",
        "\n",
        "- Parameters/Features and Targets\n",
        "- Functions F(x)\n",
        "- Cost Functions\n",
        "- Gradient Descent\n",
        "- Derivatives"
      ],
      "metadata": {
        "id": "QeaDEHYXetr4"
      }
    },
    {
      "cell_type": "markdown",
      "source": [
        "Using Linear Regression, we will cover the foundations of Machine Learning and the common stages involved which are used across machine learning as well as deep learning and neural networks"
      ],
      "metadata": {
        "id": "-PuxkcrbfZHM"
      }
    },
    {
      "cell_type": "markdown",
      "source": [
        "### How do Machines Learn?\n",
        "\n",
        "Machines learn from data, labelled or unlabelled.\n",
        "- When dealing with supervised learning, data will have Target variables.\n",
        "- When dealing with Unsupervised learning data will have no target labels and the machine will have to draw insight from trends within the features\n",
        "- BOTH have features"
      ],
      "metadata": {
        "id": "sXEPmjdEgqBK"
      }
    },
    {
      "cell_type": "code",
      "execution_count": null,
      "metadata": {
        "id": "0VyXCHVyelXn",
        "colab": {
          "base_uri": "https://localhost:8080/",
          "height": 311
        },
        "outputId": "f4a4cc83-4c6d-4bfb-9cf5-e8e93393ee66"
      },
      "outputs": [
        {
          "output_type": "display_data",
          "data": {
            "text/plain": [
              "<Figure size 300x300 with 1 Axes>"
            ],
            "image/png": "[encoded data removed]"
          },
          "metadata": {}
        }
      ],
      "source": [
        "import numpy as np\n",
        "import matplotlib.pyplot as plt\n",
        "import seaborn as sns\n",
        "\n",
        "data = [[50, 150], [60, 160], [70, 170], [80, 180], [90, 190]]\n",
        "\n",
        "d = np.array(data)\n",
        "\n",
        "features = d[:, 0]\n",
        "target = d[:, 1]\n",
        "\n",
        "plt.figure(figsize=(3,3))\n",
        "sns.scatterplot(x=features, y=target, marker=\"x\", color=\"navy\")\n",
        "plt.xlabel(\"Feature\")\n",
        "plt.ylabel(\"Target\")\n",
        "plt.show()\n"
      ]
    },
    {
      "cell_type": "markdown",
      "source": [
        "Data is organised in arrays or matrixes. It is the features of this data that we will use in order to perform some function that will either predict/classify our target labels or draw insight from our features.\n",
        "\n",
        "The goal of the machine is to learn the best parameters of the function which aims to predict the target labels or the best parameters which minimizes the error (more on this further)"
      ],
      "metadata": {
        "id": "4ac8tNY_YLKx"
      }
    },
    {
      "cell_type": "markdown",
      "source": [
        "\n",
        "\n",
        "---\n",
        "\n",
        "### Features and Targets\n",
        "\n",
        "The features in our data are the values which we will use to predict/classify or draw insight from. For example, if we have some data on height and weight, our features may be height in order to predict weight. Or, we might use height and weight to further predict or classify on another target/label such as whether or not someone may be a good candidate for a clinical trial."
      ],
      "metadata": {
        "id": "QQxjR-LiTnqC"
      }
    },
    {
      "cell_type": "markdown",
      "source": [
        "\n",
        "\n",
        "---\n",
        "\n",
        "### Cost Function\n",
        "**Specifically the squared error cost function**\n",
        "\n",
        "Taking a F(X) function of Linear Regression\n",
        "- F(X) = b + bX\n",
        "\n",
        "Our goal is to find the parameters that will predict output labels (y) in order to do this we will have to find out how\n",
        "far off we are from the target. This will be our **Cost** or our **Error**.\n",
        "\n",
        "as we iterate through our array X(i) of features and plug them into our function using our current parameters we will output a predicted Y(i). We take this predicted Y(i) and subtract this from the actual value of Y(i) in the array.\n",
        "- (predict - actual)\n",
        "\n",
        "We then square this value to make sure that negative values can also contribute to the cost\n",
        "- (predict - actual)^2\n",
        "\n",
        "We then want to sum this error across the entire array, from i to m:\n",
        "- Σᵢᵐ(predictⁱ - actualⁱ)^2\n",
        "- M = number of training examples\n",
        "\n",
        "With larger datasets, summing the error may produce a very large number, to avoid this a convention is to average by m\n",
        "- 1/m Σᵢᵐ(predictⁱ - actualⁱ)^2\n",
        "\n",
        "Another convention is to multiply the m by 2 when dividing, to make the output error slightly neater\n",
        "- 1/(2/m) Σᵢᵐ(predictⁱ - actualⁱ)^2\n",
        "\n",
        "Lastly a J(w,b) is added to denote our cost function\n",
        "\n",
        "**Means Squared Error:**\n",
        "\n",
        "**J(w,b) = 1/(2/m) Σᵢᵐ(predictⁱ - actualⁱ)^2**\n",
        "\n",
        "Because the predict Y(i) is the output of our F(X) Function, we can re-write our cost function as follows:\n",
        "\n",
        "**J(w,b) = 1/(2/m) * Σᵢᵐ(f(x(ⁱ)) - Y(ⁱ)^2**\n",
        "\n"
      ],
      "metadata": {
        "id": "-AUiLA8xhChE"
      }
    },
    {
      "cell_type": "markdown",
      "source": [
        "The equation for cost with one variable is:\n",
        "  $$J(w,b) = \\frac{1}{2m} \\sum\\limits_{i = 0}^{m-1} (f_{w,b}(x^{(i)}) - y^{(i)})^2 $$\n",
        "\n",
        "where\n",
        "  $$f_{w,b}(x^{(i)}) = wx^{(i)} + b $$\n",
        "  \n",
        "- $f_{w,b}(x^{(i)})$ is our prediction for example $i$ using parameters $w,b$.  \n",
        "- $(f_{w,b}(x^{(i)}) -y^{(i)})^2$ is the squared difference between the target value and the prediction.   \n",
        "- These differences are summed over all the $m$ examples and divided by `2m` to produce the cost, $J(w,b)$."
      ],
      "metadata": {
        "id": "ovtAs8xHXBS9"
      }
    },
    {
      "cell_type": "markdown",
      "source": [
        "### Visualising Cost"
      ],
      "metadata": {
        "id": "fo242jqDfKCE"
      }
    },
    {
      "cell_type": "code",
      "source": [
        "# The parameters which the machine learns from\n",
        "m = 1\n",
        "b = 103\n",
        "\n",
        "# The function used for the model\n",
        "def f(x, m, b):\n",
        "  return b + (m * x)\n",
        "\n",
        "predict = f(features, m, b)\n",
        "print(f(features, m, b))\n",
        "\n",
        "plt.figure(figsize=(3,3))\n",
        "sns.scatterplot(x=features, y=target, marker=\"x\", color=\"navy\")\n",
        "plt.plot(features, predict, label=\"Regression Line\", color=\"orange\")\n",
        "plt.xlabel(\"Feature\")\n",
        "plt.ylabel(\"Target\")\n",
        "plt.show()\n",
        "\n"
      ],
      "metadata": {
        "colab": {
          "base_uri": "https://localhost:8080/",
          "height": 329
        },
        "id": "agO4cuvU5FWA",
        "outputId": "ff2fab6c-90a3-4b4b-ec29-76f10aae32dd"
      },
      "execution_count": null,
      "outputs": [
        {
          "output_type": "stream",
          "name": "stdout",
          "text": [
            "[153 163 173 183 193]\n"
          ]
        },
        {
          "output_type": "display_data",
          "data": {
            "text/plain": [
              "<Figure size 300x300 with 1 Axes>"
            ],
            "image/png": "[encoded data removed]"
          },
          "metadata": {}
        }
      ]
    },
    {
      "cell_type": "code",
      "source": [
        "residuals = predict - target\n",
        "\n",
        "print(f\"Initial Residuals: {residuals}\")\n",
        "\n",
        "def cost(target, predict):\n",
        "    length = len(target)\n",
        "    sum_of_squared_residuals = np.sum((predict - target)**2)\n",
        "    return length * sum_of_squared_residuals\n",
        "\n",
        "\n",
        "m = 1\n",
        "b = 103\n",
        "cost_list = []\n",
        "\n",
        "for i in range(7):\n",
        "  fx = f(features, m, b)\n",
        "  cost_num = cost(target, fx)\n",
        "  cost_list.append(cost_num)\n",
        "  b -= 1\n",
        "\n",
        "\n",
        "print(f\"List of Cost Outputs: {cost_list}\")\n",
        "\n",
        "plt.figure(figsize=(3,3))\n",
        "sns.lineplot(x=range(7), y=cost_list, linewidth=2, marker=\"o\");\n"
      ],
      "metadata": {
        "colab": {
          "base_uri": "https://localhost:8080/",
          "height": 328
        },
        "id": "PPRxyuvl_BDu",
        "outputId": "796c4e78-185d-4f7c-eb1e-52beb923850e"
      },
      "execution_count": null,
      "outputs": [
        {
          "output_type": "stream",
          "name": "stdout",
          "text": [
            "Initial Residuals: [3 3 3 3 3]\n",
            "List of Cost Outputs: [225, 100, 25, 0, 25, 100, 225]\n"
          ]
        },
        {
          "output_type": "display_data",
          "data": {
            "text/plain": [
              "<Figure size 300x300 with 1 Axes>"
            ],
            "image/png": "[encoded data removed]"
          },
          "metadata": {}
        }
      ]
    },
    {
      "cell_type": "markdown",
      "source": [
        "\n",
        "\n",
        "---\n",
        "\n",
        "### Gradient Descent\n",
        "\n",
        "**The learning part of machine learning.**\n",
        "\n",
        "Instead of changing the values of our parameters by ourselves to lower the cost function output, we can use gradient descent to slowly reduce the cost function until we arrive at the best values for our parameters (or close enough)\n",
        "\n",
        "For this, we will be using:\n",
        "\n",
        "- Learning rate\n",
        "- Epochs (Iterations)\n",
        "- Derivatives"
      ],
      "metadata": {
        "id": "QlPmOSoehEMU"
      }
    },
    {
      "cell_type": "markdown",
      "source": [
        "Gradient descent can be used for most functions and cost functions. For this example, we are using the cost function MSE (Means Squared Error) shortened to J(w,b)\n",
        "\n",
        "**The job of gradient descent is to arrive at the best values for the cost function parameters (w,b) which minimizes J (the cost)**\n",
        "\n",
        "When looking to minimize cost, gradient descent will look to what is the steepest descent. Meaning, if we are on top of a slope, what side of the slope do we go down in order to descend as quickly as possible (mathmetically this is calculated through derivates)"
      ],
      "metadata": {
        "id": "X9c-EPNXhtnF"
      }
    },
    {
      "cell_type": "markdown",
      "source": [
        "**Gradient Descent Formula**\n",
        "\n",
        "$w = w - ∝ {d\\over dw} J(w,b)$"
      ],
      "metadata": {
        "id": "yeaFNrm1VKTn"
      }
    },
    {
      "cell_type": "markdown",
      "source": [
        "This formula is saying:\n",
        "\n",
        "- Take your current value of $w$ and adjust it a small amount $∝ {d\\over dw} J(w,b)$\n",
        "- In this instance, $=$ is acting as an assignment value: we are assigning $w$ to this new value\n",
        "\n",
        "- $∝$ This is our learning rate\n",
        "- ${d\\over dw} J(w,b)$ is the derivative term of our cost function, this will tell us what direction to take our step and how big of a step will be taken (rate of change)\n",
        "\n",
        "As we have multiple parameters (w,b) we will have to also calculate for b. This we do for all parameters until convergence.\n",
        "\n",
        "**We want to do this simultaneously for both parameters**"
      ],
      "metadata": {
        "id": "wuivWktFW3OV"
      }
    },
    {
      "cell_type": "markdown",
      "source": [
        "\n",
        "\n",
        "---\n",
        "\n",
        "**Gradient Descent In Action**\n",
        "\n",
        "Using only one paramter (w)"
      ],
      "metadata": {
        "id": "_5lCggn0Gmyu"
      }
    },
    {
      "cell_type": "code",
      "source": [
        "\n",
        "\n",
        "plt.figure(figsize=(5,5))\n",
        "sns.lineplot(x=range(7), y=cost_list, linewidth=2, marker=\"o\")\n",
        "\n",
        "# Point to draw the tangent line\n",
        "x_point = 5\n",
        "y_point = cost_list[x_point]\n",
        "\n",
        "# Adjusted slope (manually)\n",
        "slope_adjustment = 100\n",
        "\n",
        "# Plot tangent line (manually adjusted slope)\n",
        "plt.plot([x_point - 1, x_point + 1], [y_point - 1 * slope_adjustment, y_point + 1 * slope_adjustment], color='red', linestyle='-')\n",
        "\n",
        "plt.annotate(\"J(w)\", (5, 100), xytext=(4, 140), arrowprops=dict(arrowstyle=\"simple\"))\n",
        "plt.annotate(\"Positive \\nTangent Line\", (4.5, 50), xytext=(2, 50), arrowprops=dict(arrowstyle=\"simple\"))\n",
        "\n",
        "# Add a box around the annotation\n",
        "plt.text(1, 180, \"The tangent informs us \\nof the change we can \\nexpect J(w) to have at that point\", bbox=dict(facecolor='white', edgecolor='black', boxstyle='round,pad=0.5'))\n",
        "\n",
        "plt.show()"
      ],
      "metadata": {
        "colab": {
          "base_uri": "https://localhost:8080/",
          "height": 445
        },
        "id": "JZsMGRiKGbLN",
        "outputId": "f99b8a4f-af3c-4d22-ce33-87e5ccba29fb"
      },
      "execution_count": null,
      "outputs": [
        {
          "output_type": "display_data",
          "data": {
            "text/plain": [
              "<Figure size 500x500 with 1 Axes>"
            ],
            "image/png": "[encoded data removed]"
          },
          "metadata": {}
        }
      ]
    },
    {
      "cell_type": "markdown",
      "source": [
        "When we calculate the derivate of w at some point using gradient descent, we are given either a positive or negative number which indicates the direction of the gradient. When the number is positive, we subtract w from the learning rate multiplied by this positive number which moves us left on the graph. If the number is negative (the tangent line facing down) w is subtracted from the negative number multiplied by the learning rate which moves us right on the graph.\n",
        "\n",
        "From the derivative we also can see how drastic the change in w will be. The rate of change. This will dictate the size of the step we take, so it is very useful if we don't want to overshoot minimizing our cost."
      ],
      "metadata": {
        "id": "2KfW16_ZLmil"
      }
    },
    {
      "cell_type": "markdown",
      "source": [
        "\n",
        "\n",
        "---\n",
        "\n",
        "\n",
        "### Learning Rate"
      ],
      "metadata": {
        "id": "OfEaC96XGnek"
      }
    },
    {
      "cell_type": "markdown",
      "source": [
        "The learning rate controls how quickly or slowly the machine learns or how big of a step gradient descent takes. The difficulty is in choosing the optimal learning rate. A learning rate to large will cause the cost function to overshoot the minimum (taking too huge of a step) when the learning is too small, then a lot of steps will need to be taken causing the machine to learn at too small of a rate.\n",
        "\n",
        "**Local Minumum**\n",
        "\n",
        "Gradient descent will work with a fixed learning rate to achieve a local minimum. It does this because as the derivative (tangent line) becomes less step, the rate of change (or the step taken at each iteration) becomes less and less as it approaches the local minimum."
      ],
      "metadata": {
        "id": "439BSL9AGrXI"
      }
    },
    {
      "cell_type": "markdown",
      "source": [
        "\n",
        "\n",
        "---\n",
        "\n",
        "### Calculating Derivative\n",
        "\n",
        "The derivative of the cost function $J(w,b)$ using a Linear Regression function as follows:\n",
        "\n",
        "**W:**\n",
        "\n",
        "${α \\over αw} J(w,b) = {1\\over m} \\sum\\limits_{i = 1}^{m} (f_{w,b}(x^{(i)}) - y^{(i)})x{(i)}$\n",
        "\n",
        "**B:**\n",
        "\n",
        "${α \\over αw} J(w,b) = {1\\over m} \\sum\\limits_{i = 1}^{m} (f_{w,b}(x^{(i)}) - y^{(i)})$"
      ],
      "metadata": {
        "id": "d_SqstLBJOia"
      }
    },
    {
      "cell_type": "markdown",
      "source": [
        "Here we take the orginal means squared error (MSE) cost function used on the linear function $f(x) = mx + b$ and we calculate the derivative of the cost function."
      ],
      "metadata": {
        "id": "J94OehUhM48c"
      }
    },
    {
      "cell_type": "code",
      "source": [
        "def compute_cost(x, y, w, b):\n",
        "\n",
        "    m = x.shape[0]\n",
        "    cost = 0\n",
        "\n",
        "    for i in range(m):\n",
        "        f_wb = w * x[i] + b\n",
        "        cost = cost + (f_wb - y[i])**2\n",
        "    total_cost = 1 / (2 * m) * cost\n",
        "\n",
        "    return total_cost"
      ],
      "metadata": {
        "id": "tE55GyMMCOND"
      },
      "execution_count": null,
      "outputs": []
    },
    {
      "cell_type": "code",
      "source": [
        "def compute_gradient(x, y, w, b):\n",
        "    \"\"\"\n",
        "    Computes the gradient for linear regression\n",
        "    Args:\n",
        "      x (ndarray (m,)): Data, m examples\n",
        "      y (ndarray (m,)): target values\n",
        "      w,b (scalar)    : model parameters\n",
        "    Returns\n",
        "      dj_dw (scalar): The gradient of the cost w.r.t. the parameters w\n",
        "      dj_db (scalar): The gradient of the cost w.r.t. the parameter b\n",
        "     \"\"\"\n",
        "\n",
        "    # Number of training examples\n",
        "    m = x.shape[0]\n",
        "    dj_dw = 0\n",
        "    dj_db = 0\n",
        "\n",
        "    for i in range(m):\n",
        "        f_wb = w * x[i] + b\n",
        "        dj_dw_i = (f_wb - y[i]) * x[i]\n",
        "        dj_db_i = f_wb - y[i]\n",
        "        dj_db += dj_db_i\n",
        "        dj_dw += dj_dw_i\n",
        "    dj_dw = dj_dw / m\n",
        "    dj_db = dj_db / m\n",
        "\n",
        "    return dj_dw, dj_db"
      ],
      "metadata": {
        "id": "ogZRIV0uBOGE"
      },
      "execution_count": null,
      "outputs": []
    },
    {
      "cell_type": "code",
      "source": [
        "import math, copy\n",
        "\n",
        "def gradient_descent(x, y, w_in, b_in, alpha, num_iters, cost_function, gradient_function):\n",
        "    \"\"\"\n",
        "    Performs gradient descent to fit w,b. Updates w,b by taking\n",
        "    num_iters gradient steps with learning rate alpha\n",
        "\n",
        "    Args:\n",
        "      x (ndarray (m,))  : Data, m examples\n",
        "      y (ndarray (m,))  : target values\n",
        "      w_in,b_in (scalar): initial values of model parameters\n",
        "      alpha (float):     Learning rate\n",
        "      num_iters (int):   number of iterations to run gradient descent\n",
        "      cost_function:     function to call to produce cost\n",
        "      gradient_function: function to call to produce gradient\n",
        "\n",
        "    Returns:\n",
        "      w (scalar): Updated value of parameter after running gradient descent\n",
        "      b (scalar): Updated value of parameter after running gradient descent\n",
        "      J_history (List): History of cost values\n",
        "      p_history (list): History of parameters [w,b]\n",
        "      \"\"\"\n",
        "\n",
        "    # An array to store cost J and w's at each iteration primarily for graphing later\n",
        "    J_history = []\n",
        "    p_history = []\n",
        "    b = b_in\n",
        "    w = w_in\n",
        "\n",
        "    for i in range(num_iters):\n",
        "        # Calculate the gradient and update the parameters using gradient_function\n",
        "        dj_dw, dj_db = gradient_function(x, y, w , b)\n",
        "\n",
        "        # Update Parameters using equation (3) above\n",
        "        b = b - alpha * dj_db\n",
        "        w = w - alpha * dj_dw\n",
        "\n",
        "        # Save cost J at each iteration\n",
        "        if i<100000:      # prevent resource exhaustion\n",
        "            J_history.append( cost_function(x, y, w , b))\n",
        "            p_history.append([w,b])\n",
        "        # Print cost every at intervals 10 times or as many iterations if < 10\n",
        "        if i% math.ceil(num_iters/10) == 0:\n",
        "            print(f\"Iteration {i:4}: Cost {J_history[-1]:0.2e} \",\n",
        "                  f\"dj_dw: {dj_dw: 0.3e}, dj_db: {dj_db: 0.3e}  \",\n",
        "                  f\"w: {w: 0.3e}, b:{b: 0.5e}\")\n",
        "\n",
        "    return w, b, J_history, p_history #return w and J,w history for graphing"
      ],
      "metadata": {
        "id": "FVkS5gnfDBe2"
      },
      "execution_count": null,
      "outputs": []
    }
  ]
}