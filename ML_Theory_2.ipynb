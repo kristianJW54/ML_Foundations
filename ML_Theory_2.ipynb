{
  "nbformat": 4,
  "nbformat_minor": 0,
  "metadata": {
    "colab": {
      "provenance": [],
      "mount_file_id": "1-CM2YoYSQW4vTwhizTKuJUJftIcDh8A2",
      "authorship_tag": "ABX9TyNVPu1OqVXkgRSugqOQtHrI",
      "include_colab_link": true
    },
    "kernelspec": {
      "name": "python3",
      "display_name": "Python 3"
    },
    "language_info": {
      "name": "python"
    }
  },
  "cells": [
    {
      "cell_type": "markdown",
      "metadata": {
        "id": "view-in-github",
        "colab_type": "text"
      },
      "source": [
        "<a href=\"https://colab.research.google.com/github/kristianJW54/ML_Foundations/blob/main/ML_Theory_2.ipynb\" target=\"_parent\"><img src=\"https://colab.research.google.com/assets/colab-badge.svg\" alt=\"Open In Colab\"/></a>"
      ]
    },
    {
      "cell_type": "markdown",
      "source": [
        "## ML Theory Continued\n",
        "\n",
        "\n",
        "---\n",
        "\n"
      ],
      "metadata": {
        "id": "oQIty_LxvBjQ"
      }
    },
    {
      "cell_type": "markdown",
      "source": [
        "#### Using Multiple Features\n",
        "\n",
        "Using multiple linear regression we will look at how to handle multiple features in machine learning\n",
        "\n",
        "multiple linear regression is as follows:\n",
        "\n",
        "$ f_w,_b(x) = wx_1 + wx_2 + wx_3 ... + wx_n + b $\n",
        "\n",
        "where $x_j$ = the index of the feature and $x^{(i)}$ = the index row of the feature vector and $w$ is the coefficient/weight\n",
        "\n",
        "So for example: If $x_1$ was the blood pressure of a patient and $x_2$ was the weight of a patient and finally b was the base heart rate of a patient without measuring any of the features.\n",
        "\n",
        "We could say that if the coefficient $w$ for $x_1$ was 1, that the base heart rate would be increased by 1 multiplied by the features value. This would be summed across the features and their weights"
      ],
      "metadata": {
        "id": "iEG1VX9GvGDg"
      }
    },
    {
      "cell_type": "markdown",
      "source": [
        "**Re-writing the formula**\n",
        "\n",
        "Because we are dealing with vectors and the multiplication of vectors (dot product) we can simplify the formula:\n",
        "\n",
        "$w$ = [$w_1, w_2, w_3...w_n$]\n",
        "\n",
        "b = b\n",
        "\n",
        "$4x$ = [$x_1, x_2, x_3,...x_n$]\n",
        "\n",
        "**Simplified formula:**\n",
        "\n",
        "$f_w,_b(x) = w · x + b$"
      ],
      "metadata": {
        "id": "0Wc3DGKtzGR7"
      }
    },
    {
      "cell_type": "markdown",
      "source": [
        "#### Vectorisation\n",
        "\n",
        "Using vectors for our machine learning algorithms and models will make our process faster and computationally more efficient\n",
        "\n",
        "This will also be useful for when training on GPU's with more complex models."
      ],
      "metadata": {
        "id": "jqUZ1IMiHxDm"
      }
    },
    {
      "cell_type": "code",
      "execution_count": null,
      "metadata": {
        "id": "rxmy2kbUONcO"
      },
      "outputs": [],
      "source": [
        "\"\"\"\n",
        "To take the vectors:\n",
        "\n",
        "w = [w1, w2, w3...]\n",
        "b = number\n",
        "x = [x1, x2, x3...]\n",
        "\n",
        "We can use Numpy to create arrays for our variables to represent them as vectors\n",
        "\n",
        "\"\"\"\n",
        "\n",
        "import numpy as np\n",
        "\n",
        "w = np.array([1, 2, 3])\n",
        "b = 1\n",
        "x = np.array([1, 2, 3])\n",
        "\n",
        "\n",
        "\"\"\"\n",
        "Using these vectors we can now perform a dot product calculation which will allow us to multiply and sum the vectors together without having to\n",
        "manually type the formula\n",
        "\n",
        "Finally we will add b\n",
        "\n",
        "\"\"\"\n",
        "\n",
        "f = np.dot(w,x) + b"
      ]
    },
    {
      "cell_type": "markdown",
      "source": [
        "**Vectorisation has two distinct benefits**\n",
        "\n",
        "1) It makes the code shorted :)\n",
        "\n",
        "2) It makes the code run faset :) :)"
      ],
      "metadata": {
        "id": "BEeWSYErWGUG"
      }
    },
    {
      "cell_type": "markdown",
      "source": [
        "In the example of gradient descent, vectorisation can improve the efficiency of calculating the weights/parameters\n",
        "\n",
        "Here we will look at an example of a multiple linear regression algorithm with 5 features\n",
        "\n",
        "$w = [w_1, w_2, w_3, w_4, w_5]$\n",
        "\n",
        "We then calculate the partial derivatives of these\n",
        "\n",
        "$d = [d_1, d_2, d_3, d_4, d_5]$\n",
        "\n",
        "In the first example we will see without vectorisation:"
      ],
      "metadata": {
        "id": "QGnrwitcWU0H"
      }
    },
    {
      "cell_type": "code",
      "source": [
        "w = [1.2, 2.3, 3.1, 2.9, 1.8]\n",
        "d = [0.2, 0.4, 0.6, 0.5, 0.3]\n",
        "\n",
        "# Without vectorisation\n",
        "\n",
        "for i in range(len(w)):\n",
        "  w[i] = w[i] - 0.1 * d[i]\n",
        "\n",
        "print(w)"
      ],
      "metadata": {
        "colab": {
          "base_uri": "https://localhost:8080/"
        },
        "id": "N4pFMEnAYTZy",
        "outputId": "b200292d-5c1b-4024-afd5-3cb91a9ab93c"
      },
      "execution_count": null,
      "outputs": [
        {
          "output_type": "stream",
          "name": "stdout",
          "text": [
            "[1.18, 2.26, 3.04, 2.85, 1.77]\n"
          ]
        }
      ]
    },
    {
      "cell_type": "markdown",
      "source": [
        "With vectorisation:"
      ],
      "metadata": {
        "id": "H7sUKk0GY7xn"
      }
    },
    {
      "cell_type": "code",
      "source": [
        "import numpy as np\n",
        "\n",
        "w = np.array([1.2, 2.3, 3.1, 2.9, 1.8])\n",
        "d = np.array([0.2, 0.4, 0.6, 0.5, 0.3])\n",
        "\n",
        "w = w - 0.1 * d\n",
        "\n",
        "print(w)"
      ],
      "metadata": {
        "colab": {
          "base_uri": "https://localhost:8080/"
        },
        "id": "D-1jfiQIY-Ga",
        "outputId": "846c92c3-1e18-4617-e704-68a20cdd6ee2"
      },
      "execution_count": null,
      "outputs": [
        {
          "output_type": "stream",
          "name": "stdout",
          "text": [
            "[1.18 2.26 3.04 2.85 1.77]\n"
          ]
        }
      ]
    },
    {
      "cell_type": "markdown",
      "source": [
        "#### Matrices\n",
        "\n",
        "Matrices, are two dimensional arrays. The elements of a matrix are all of the same type. In notation, matrices are denoted with capitol, bold letter such as $\\mathbf{X}$. $m$ is often the number of rows and $n$ the number of columns. The elements of a matrix can be referenced with a two dimensional index. In math settings, numbers in the index typically run from 1 to n.  "
      ],
      "metadata": {
        "id": "Tf7EmBq4a4HZ"
      }
    },
    {
      "cell_type": "markdown",
      "source": [
        "The same functions that created 1-D vectors will create 2-D or n-D arrays. Here are some examples\n",
        "\n",
        "Below, the shape tuple is provided to achieve a 2-D result. Notice how NumPy uses brackets to denote each dimension. Notice further than NumPy, when printing, will print one row per line.\n"
      ],
      "metadata": {
        "id": "1YwQwXP7bO5c"
      }
    },
    {
      "cell_type": "code",
      "source": [
        "import numpy as np\n",
        "\n",
        "a = np.zeros((1, 5))\n",
        "print(f\"a shape = {a.shape}, a = {a}\")\n",
        "\n",
        "a = np.zeros((2, 1))\n",
        "print(f\"a shape = {a.shape}, a = {a}\")\n",
        "\n",
        "a = np.random.random_sample((1, 1))\n",
        "print(f\"a shape = {a.shape}, a = {a}\")"
      ],
      "metadata": {
        "colab": {
          "base_uri": "https://localhost:8080/"
        },
        "id": "9q6hvaDobhxm",
        "outputId": "e3d8a5a0-8633-4e96-e9a6-46af30eab50f"
      },
      "execution_count": null,
      "outputs": [
        {
          "output_type": "stream",
          "name": "stdout",
          "text": [
            "a shape = (1, 5), a = [[0. 0. 0. 0. 0.]]\n",
            "a shape = (2, 1), a = [[0.]\n",
            " [0.]]\n",
            "a shape = (1, 1), a = [[0.65902684]]\n"
          ]
        }
      ]
    },
    {
      "cell_type": "markdown",
      "source": [
        "One can also manually specify data. Dimensions are specified with additional brackets matching the format in the printing above."
      ],
      "metadata": {
        "id": "g6cLqG63bvCV"
      }
    },
    {
      "cell_type": "code",
      "source": [
        "# NumPy routines which allocate memory and fill with user specified values\n",
        "a = np.array([[5], [4], [3]]);   print(f\" a shape = {a.shape}, np.array: a = {a}\")\n",
        "a = np.array([[5],   # One can also\n",
        "              [4],   # separate values\n",
        "              [3]]); #into separate rows\n",
        "print(f\" a shape = {a.shape}, np.array: a = {a}\")"
      ],
      "metadata": {
        "colab": {
          "base_uri": "https://localhost:8080/"
        },
        "id": "QRZRh5W2bvoF",
        "outputId": "d16609cb-16e0-4ec6-89fa-d48561451b1a"
      },
      "execution_count": null,
      "outputs": [
        {
          "output_type": "stream",
          "name": "stdout",
          "text": [
            " a shape = (3, 1), np.array: a = [[5]\n",
            " [4]\n",
            " [3]]\n",
            " a shape = (3, 1), np.array: a = [[5]\n",
            " [4]\n",
            " [3]]\n"
          ]
        }
      ]
    },
    {
      "cell_type": "code",
      "source": [
        "header = [\"Run\", \"Distance\", \"Time\"]\n",
        "\n",
        "data = [[0,5,10],[1,10,30],[1,10,28],[0,5,20]]\n",
        "\n",
        "# Convert data to a NumPy array\n",
        "data_array = np.array(data)\n",
        "\n",
        "# Concatenate header with data array\n",
        "matrix = np.vstack([header, data_array])\n",
        "\n",
        "print(matrix)"
      ],
      "metadata": {
        "colab": {
          "base_uri": "https://localhost:8080/"
        },
        "id": "PNNtYG9IcvCi",
        "outputId": "62d8325b-7202-4ae5-c90e-25ed679c9e37"
      },
      "execution_count": null,
      "outputs": [
        {
          "output_type": "stream",
          "name": "stdout",
          "text": [
            "[['Run' 'Distance' 'Time']\n",
            " ['0' '5' '10']\n",
            " ['1' '10' '30']\n",
            " ['1' '10' '28']\n",
            " ['0' '5' '20']]\n"
          ]
        }
      ]
    },
    {
      "cell_type": "code",
      "source": [
        "# Create a 1D array with 12 elements\n",
        "arr = np.arange(12)\n",
        "\n",
        "# Reshape the array into a 3x4 matrix\n",
        "reshaped_arr = arr.reshape(3, 4)\n",
        "\n",
        "print(\"Original Array:\")\n",
        "print(arr)\n",
        "print(\"Reshaped Array:\")\n",
        "print(reshaped_arr)"
      ],
      "metadata": {
        "colab": {
          "base_uri": "https://localhost:8080/"
        },
        "id": "hhMTlm7hd4wn",
        "outputId": "c45b39b6-7ffb-435a-d77f-565876faa1cb"
      },
      "execution_count": null,
      "outputs": [
        {
          "output_type": "stream",
          "name": "stdout",
          "text": [
            "Original Array:\n",
            "[ 0  1  2  3  4  5  6  7  8  9 10 11]\n",
            "Reshaped Array:\n",
            "[[ 0  1  2  3]\n",
            " [ 4  5  6  7]\n",
            " [ 8  9 10 11]]\n"
          ]
        }
      ]
    },
    {
      "cell_type": "markdown",
      "source": [
        "#### Gradient Descent With Multiple Variables\n",
        "\n",
        "Gradient descent for multiple variables:\n",
        "\n",
        "$$\\begin{align*} \\text{repeat}&\\text{ until convergence:} \\; \\lbrace \\newline\\;\n",
        "& w_j = w_j -  \\alpha \\frac{\\partial J(\\mathbf{w},b)}{\\partial w_j}  \\; & \\text{for j = 0..n-1}\\newline\n",
        "&b\\ \\ = b -  \\alpha \\frac{\\partial J(\\mathbf{w},b)}{\\partial b}  \\newline \\rbrace\n",
        "\\end{align*}$$\n",
        "\n",
        "where, n is the number of features, parameters $w_j$,  $b$, are updated simultaneously and where  \n",
        "\n",
        "$$\n",
        "\\begin{align}\n",
        "\\frac{\\partial J(\\mathbf{w},b)}{\\partial w_j}  &= \\frac{1}{m} \\sum\\limits_{i = 0}^{m-1} (f_{\\mathbf{w},b}(\\mathbf{x}^{(i)}) - y^{(i)})x_{j}^{(i)}  \\\\\n",
        "\\frac{\\partial J(\\mathbf{w},b)}{\\partial b}  &= \\frac{1}{m} \\sum\\limits_{i = 0}^{m-1} (f_{\\mathbf{w},b}(\\mathbf{x}^{(i)}) - y^{(i)})\n",
        "\\end{align}\n",
        "$$\n",
        "* m is the number of training examples in the data set\n",
        "\n",
        "    \n",
        "*  $f_{\\mathbf{w},b}(\\mathbf{x}^{(i)})$ is the model's prediction, while $y^{(i)}$ is the target value"
      ],
      "metadata": {
        "id": "lCFUvsXOR9d5"
      }
    },
    {
      "cell_type": "code",
      "source": [
        "def compute_gradient(X, y, w, b):\n",
        "    \"\"\"\n",
        "    Computes the gradient for linear regression\n",
        "    Args:\n",
        "      X (ndarray (m,n)): Data, m examples with n features\n",
        "      y (ndarray (m,)) : target values\n",
        "      w (ndarray (n,)) : model parameters\n",
        "      b (scalar)       : model parameter\n",
        "\n",
        "    Returns:\n",
        "      dj_dw (ndarray (n,)): The gradient of the cost w.r.t. the parameters w.\n",
        "      dj_db (scalar):       The gradient of the cost w.r.t. the parameter b.\n",
        "    \"\"\"\n",
        "    m,n = X.shape           #(number of examples, number of features)\n",
        "    dj_dw = np.zeros((n,))\n",
        "    dj_db = 0.\n",
        "\n",
        "    for i in range(m):\n",
        "        err = (np.dot(X[i], w) + b) - y[i]\n",
        "        for j in range(n):\n",
        "            dj_dw[j] = dj_dw[j] + err * X[i, j]\n",
        "        dj_db = dj_db + err\n",
        "    dj_dw = dj_dw / m\n",
        "    dj_db = dj_db / m\n",
        "\n",
        "    return dj_db, dj_dw"
      ],
      "metadata": {
        "id": "Ei79Apn8TBAo"
      },
      "execution_count": null,
      "outputs": []
    },
    {
      "cell_type": "code",
      "source": [
        "def gradient_descent(X, y, w_in, b_in, cost_function, gradient_function, alpha, num_iters):\n",
        "    \"\"\"\n",
        "    Performs batch gradient descent to learn w and b. Updates w and b by taking\n",
        "    num_iters gradient steps with learning rate alpha\n",
        "\n",
        "    Args:\n",
        "      X (ndarray (m,n))   : Data, m examples with n features\n",
        "      y (ndarray (m,))    : target values\n",
        "      w_in (ndarray (n,)) : initial model parameters\n",
        "      b_in (scalar)       : initial model parameter\n",
        "      cost_function       : function to compute cost\n",
        "      gradient_function   : function to compute the gradient\n",
        "      alpha (float)       : Learning rate\n",
        "      num_iters (int)     : number of iterations to run gradient descent\n",
        "\n",
        "    Returns:\n",
        "      w (ndarray (n,)) : Updated values of parameters\n",
        "      b (scalar)       : Updated value of parameter\n",
        "      \"\"\"\n",
        "\n",
        "    # An array to store cost J and w's at each iteration primarily for graphing later\n",
        "    J_history = []\n",
        "    w = copy.deepcopy(w_in)  #avoid modifying global w within function\n",
        "    b = b_in\n",
        "\n",
        "    for i in range(num_iters):\n",
        "\n",
        "        # Calculate the gradient and update the parameters\n",
        "        dj_db,dj_dw = gradient_function(X, y, w, b)   ##None\n",
        "\n",
        "        # Update Parameters using w, b, alpha and gradient\n",
        "        w = w - alpha * dj_dw               ##None\n",
        "        b = b - alpha * dj_db               ##None\n",
        "\n",
        "        # Save cost J at each iteration\n",
        "        if i<100000:      # prevent resource exhaustion\n",
        "            J_history.append( cost_function(X, y, w, b))\n",
        "\n",
        "        # Print cost every at intervals 10 times or as many iterations if < 10\n",
        "        if i% math.ceil(num_iters / 10) == 0:\n",
        "            print(f\"Iteration {i:4d}: Cost {J_history[-1]:8.2f}   \")\n",
        "\n",
        "    return w, b, J_history #return final w,b and J history for graphing"
      ],
      "metadata": {
        "id": "wEH8d5ASTm2c"
      },
      "execution_count": null,
      "outputs": []
    },
    {
      "cell_type": "markdown",
      "source": [
        "#### Feature Scaling\n",
        "\n",
        "In feature scaling we look to bring values between a smaller range which can help when training models. Features that are vastly different in terms of scale can have a big impact on our models. If one feature is a vector with the values in the range of 1-5 and the second feature with a vector in the range of 10000-200000 then the large difference in scale will cause problems when trying to train our gradient descent algorithm\n",
        "\n",
        "In order to solve this, it is helpful to reduce these values into a more suited range where all features are either between 0,1 or -1,1.\n"
      ],
      "metadata": {
        "id": "dKfHgi8jCVLh"
      }
    },
    {
      "cell_type": "markdown",
      "source": [
        "**Mean Normalisation**\n",
        "\n",
        "For example - Mean Normalisation scales features around 0 so between -1 and 1\n",
        "\n",
        "It does this by taking the mean (average) and dividing that by the difference between the min and the max"
      ],
      "metadata": {
        "id": "-xVrpFIeOtZH"
      }
    },
    {
      "cell_type": "code",
      "source": [
        "import numpy as np\n",
        "import matplotlib.pyplot as plt\n",
        "\n",
        "def randlist(lower, higher):\n",
        "  lst = []\n",
        "  for i in range(21):\n",
        "    lst.append(np.random.randint(lower,higher))\n",
        "  return lst\n",
        "\n",
        "\n",
        "x1 = np.array(randlist(10,100))\n",
        "print(x1)\n",
        "\n",
        "x2 = np.array(randlist(5000,100000))\n",
        "print(x2)\n",
        "\n",
        "\n",
        "# Mean Normalisation\n",
        "\n",
        "def scale_feature(feature):\n",
        "\n",
        "  m1 = np.mean(feature)\n",
        "  max1 = np.max(feature)\n",
        "  min1 = np.min(feature)\n",
        "\n",
        "  diff1 = max1 - min1\n",
        "\n",
        "  scaled = (feature - m1) / diff1\n",
        "\n",
        "  return scaled\n",
        "\n",
        "print(f\"\\nx1 Scaled: \\n{scale_feature(x1)} \\n\\nx2 Scaled: \\n{scale_feature(x2)}\")\n",
        "\n",
        "\n",
        "plt.figure(figsize=(10, 5))\n",
        "\n",
        "# Scaled arrays\n",
        "x1_scaled = scale_feature(x1)\n",
        "x2_scaled = scale_feature(x2)\n",
        "\n",
        "plt.scatter(range(len(x1_scaled)), x1_scaled, color='red', alpha=0.5, label='x1 Scaled')\n",
        "plt.scatter(range(len(x2_scaled)), x2_scaled, color='orange', alpha=0.5, label='x2 Scaled')\n",
        "\n",
        "plt.legend()\n",
        "plt.title('Scaled Arrays')\n",
        "plt.xlabel('Index')\n",
        "plt.ylabel('Value')\n",
        "plt.show()\n",
        "\n"
      ],
      "metadata": {
        "colab": {
          "base_uri": "https://localhost:8080/",
          "height": 747
        },
        "id": "2iE2nwgwDMtr",
        "outputId": "bfcff593-8f42-4667-869c-6b0784d1a53f"
      },
      "execution_count": null,
      "outputs": [
        {
          "output_type": "stream",
          "name": "stdout",
          "text": [
            "[86 43 87 16 35 46 45 20 27 16 64 78 85 21 46 15 37 75 46 51 90]\n",
            "[75995 47342 26351  5849 31283 77840 63151 31830 20717 55902 81259 10545\n",
            " 85605 69807 32599 90040 82010 58062 99204 25398 56517]\n",
            "\n",
            "x1 Scaled: \n",
            "[ 0.49333333 -0.08        0.50666667 -0.44       -0.18666667 -0.04\n",
            " -0.05333333 -0.38666667 -0.29333333 -0.44        0.2         0.38666667\n",
            "  0.48       -0.37333333 -0.04       -0.45333333 -0.16        0.34666667\n",
            " -0.04        0.02666667  0.54666667] \n",
            "\n",
            "x2 Scaled: \n",
            "[ 0.23902053 -0.06790464 -0.29275602 -0.51236932 -0.23992543  0.2587838\n",
            "  0.10143819 -0.23406607 -0.35310629  0.02378836  0.29540744 -0.46206671\n",
            "  0.34196092  0.17273592 -0.2258287   0.38946775  0.303452    0.04692584\n",
            "  0.48763068 -0.30296436  0.03037611]\n"
          ]
        },
        {
          "output_type": "display_data",
          "data": {
            "text/plain": [
              "<Figure size 1000x500 with 1 Axes>"
            ],
            "image/png": "[encoded data removed]"
          },
          "metadata": {}
        }
      ]
    },
    {
      "cell_type": "markdown",
      "source": [
        "**Z-Score Normalisation**\n",
        "\n",
        "Z-score normalisation takes the feature and subtracts it from the mean of the features before dividing it by the standard deviation"
      ],
      "metadata": {
        "id": "627tiFGvsCEu"
      }
    },
    {
      "cell_type": "code",
      "source": [
        "\n",
        "def zscore_norm(feature):\n",
        "\n",
        "  m1 = np.mean(feature)\n",
        "  st1 = np.std(feature)\n",
        "\n",
        "  return (feature - m1) / st1\n",
        "\n",
        "\n",
        "print(f\"x1 Zscore Normalised: \\n{zscore_norm(x1)} \\n\\nx2 Zcore Normalised: \\n{zscore_norm(x2)}\")\n",
        "\n",
        "plt.figure(figsize=(10, 5))\n",
        "\n",
        "# Scaled arrays\n",
        "x1_znorm = zscore_norm(x1)\n",
        "x2_znorm = zscore_norm(x2)\n",
        "\n",
        "plt.scatter(range(len(x1_znorm)), x1_znorm, color='red', alpha=0.5, label='x1 Scaled')\n",
        "plt.scatter(range(len(x2_znorm)), x2_znorm, color='orange', alpha=0.5, label='x2 Scaled')\n",
        "\n",
        "plt.legend()\n",
        "plt.title('Scaled Arrays')\n",
        "plt.xlabel('Index')\n",
        "plt.ylabel('Value')\n",
        "plt.show()\n",
        "\n"
      ],
      "metadata": {
        "colab": {
          "base_uri": "https://localhost:8080/",
          "height": 678
        },
        "id": "_m022VtDt5hy",
        "outputId": "f49981d2-6a67-4321-c87e-ca5dbc197b3f"
      },
      "execution_count": null,
      "outputs": [
        {
          "output_type": "stream",
          "name": "stdout",
          "text": [
            "x1 Zscore Normalised: \n",
            "[ 1.46484403 -0.23754227  1.50443441 -1.30648251 -0.55426531 -0.11877114\n",
            " -0.15836152 -1.14812099 -0.87098834 -1.30648251  0.59385569  1.14812099\n",
            "  1.42525365 -1.10853062 -0.11877114 -1.34607289 -0.47508455  1.02934986\n",
            " -0.11877114  0.07918076  1.62320554] \n",
            "\n",
            "x2 Zcore Normalised: \n",
            "[ 0.81644707 -0.23194889 -0.9999969  -1.7501527  -0.819538    0.88395451\n",
            "  0.34649287 -0.7995236  -1.20614156  0.08125634  1.00905365 -1.5783289\n",
            "  1.16807117  0.59003189 -0.77138636  1.33034514  1.03653229  0.16028943\n",
            "  1.66565036 -1.0348666   0.10375882]\n"
          ]
        },
        {
          "output_type": "display_data",
          "data": {
            "text/plain": [
              "<Figure size 1000x500 with 1 Axes>"
            ],
            "image/png": "[encoded data removed]"
          },
          "metadata": {}
        }
      ]
    }
  ]
}